{
 "cells": [
  {
   "cell_type": "code",
   "execution_count": null,
   "metadata": {},
   "outputs": [],
   "source": [
    "import pandas as pd\n",
    "\n",
    "# Load the Excel file\n",
    "df = pd.read_excel(r\"D:\\AIDS\\2nd year my\\my projects\\maduranga\\speaker clips\\Names.XLSX\")\n",
    "\n",
    "# Extract file names and corresponding speaker names\n",
    "file_names = df.iloc[:, 0].values  \n",
    "speaker_names = df.iloc[:, 1].values  "
   ]
  },
  {
   "cell_type": "code",
   "execution_count": null,
   "metadata": {},
   "outputs": [],
   "source": [
    "from sklearn.model_selection import train_test_split\n",
    "\n",
    "# Assuming you have a list of audio paths and their corresponding labels (speaker IDs)\n",
    "audio_clips = file_names  # Just file names, not wrapped in a list\n",
    "labels = speaker_names  # Speaker names, not wrapped in a list\n",
    "\n",
    "# Split the dataset into training and testing sets\n",
    "X_train, X_test, y_train, y_test = train_test_split(audio_clips, labels, test_size=0.2, random_state=42)\n",
    "\n",
    "# Print out some results to confirm\n",
    "print(\"Training set:\", X_train[:5], y_train[:5])\n",
    "print(\"Test set:\", X_test[:5], y_test[:5])"
   ]
  },
  {
   "cell_type": "code",
   "execution_count": null,
   "metadata": {},
   "outputs": [],
   "source": [
    "import librosa\n",
    "import numpy as np\n",
    "\n",
    "def extract_mfcc(audio_path, n_mfcc=13):\n",
    "    y, sr = librosa.load(audio_path, sr=48000)  # Load the audio file with 16kHz sampling rate\n",
    "    mfccs = librosa.feature.mfcc(y=y, sr=sr, n_mfcc=n_mfcc)\n",
    "    return np.mean(mfccs.T, axis=0)  # Use the mean of MFCCs as feature representation\n"
   ]
  },
  {
   "cell_type": "code",
   "execution_count": null,
   "metadata": {},
   "outputs": [],
   "source": [
    "import tensorflow as tf\n",
    "from tensorflow.keras import layers, models\n",
    "def create_cnn_rnn_model(input_shape, num_classes):\n",
    "    model = models.Sequential()\n",
    "\n",
    "    # CNN layers\n",
    "    model.add(layers.Conv1D(32, 3, activation='relu', input_shape=input_shape, padding='same'))\n",
    "    model.add(layers.MaxPooling1D(2))\n",
    "    model.add(layers.Conv1D(64, 3, activation='relu', padding='same'))\n",
    "    model.add(layers.MaxPooling1D(2))\n",
    "    model.add(layers.Conv1D(128, 3, activation='relu', padding='same'))\n",
    "    model.add(layers.GlobalAveragePooling1D())\n",
    "\n",
    "    # Dense layers\n",
    "    model.add(layers.Dense(128, activation='relu'))\n",
    "    model.add(layers.Dropout(0.5))\n",
    "    \n",
    "    # LSTM layer\n",
    "    model.add(layers.Reshape((1, 128)))\n",
    "    model.add(layers.LSTM(64, return_sequences=False))\n",
    "    \n",
    "    # Output layer\n",
    "    model.add(layers.Dense(num_classes, activation='softmax'))\n",
    "\n",
    "    model.compile(optimizer='adam', loss='sparse_categorical_crossentropy', metrics=['accuracy'])\n",
    "    return model"
   ]
  },
  {
   "cell_type": "code",
   "execution_count": null,
   "metadata": {},
   "outputs": [],
   "source": [
    "import os\n",
    "import numpy as np\n",
    "from sklearn.preprocessing import LabelEncoder\n",
    "\n",
    "# Convert speaker names to numeric labels\n",
    "label_encoder = LabelEncoder()\n",
    "y_train_encoded = label_encoder.fit_transform(y_train)\n",
    "y_test_encoded = label_encoder.transform(y_test)\n",
    "\n",
    "# Get the number of unique speakers\n",
    "num_speakers = len(np.unique(y_train_encoded))\n",
    "\n",
    "# Convert your MFCC features to arrays\n",
    "X_train_mfcc = np.array([extract_mfcc(os.path.join(r\"D:\\AIDS\\2nd year my\\my projects\\maduranga\\speaker clips\", f\"{path}\")) for path in X_train])\n",
    "X_test_mfcc = np.array([extract_mfcc(os.path.join(r\"D:\\AIDS\\2nd year my\\my projects\\maduranga\\speaker clips\", f\"{path}\")) for path in X_test])\n",
    "\n",
    "# Reshape MFCCs for CNN input\n",
    "X_train_mfcc = X_train_mfcc.reshape(-1, 13, 1)\n",
    "X_test_mfcc = X_test_mfcc.reshape(-1, 13, 1)\n",
    "\n",
    "# Get the number of unique speakers\n",
    "num_speakers = len(np.unique(y_train_encoded))\n",
    "\n",
    "# Create and train the model\n",
    "model = create_cnn_rnn_model(input_shape=(13, 1), num_classes=num_speakers)\n",
    "model.fit(X_train_mfcc, y_train_encoded, validation_data=(X_test_mfcc, y_test_encoded), epochs=20, batch_size=32)"
   ]
  },
  {
   "cell_type": "code",
   "execution_count": null,
   "metadata": {},
   "outputs": [],
   "source": [
    "y_pred = model.predict(X_test_mfcc)\n",
    "y_pred_classes = np.argmax(y_pred, axis=1)"
   ]
  },
  {
   "cell_type": "code",
   "execution_count": null,
   "metadata": {},
   "outputs": [],
   "source": [
    "from sklearn.metrics import accuracy_score, classification_report, confusion_matrix\n",
    "import seaborn as sns\n",
    "import matplotlib.pyplot as plt\n",
    "\n",
    "# Calculate accuracy\n",
    "accuracy = accuracy_score(y_test_encoded, y_pred_classes)\n",
    "print(f\"Accuracy: {accuracy:.2f}\")\n",
    "\n",
    "# Ensure labels match the unique classes in the test data and predictions\n",
    "labels = sorted(set(y_test_encoded) | set(y_pred_classes))\n",
    "\n",
    "# Generate classification report\n",
    "print(\"\\nClassification Report:\")\n",
    "print(classification_report(y_test_encoded, y_pred_classes, labels=labels, target_names=label_encoder.classes_))\n",
    "\n",
    "# Create confusion matrix\n",
    "cm = confusion_matrix(y_test_encoded, y_pred_classes, labels=labels)\n",
    "plt.figure(figsize=(10, 8))\n",
    "sns.heatmap(cm, annot=True, fmt='d', cmap='Blues', xticklabels=label_encoder.classes_, yticklabels=label_encoder.classes_)\n",
    "plt.title('Confusion Matrix')\n",
    "plt.xlabel('Predicted')\n",
    "plt.ylabel('True')\n",
    "plt.show()"
   ]
  },
  {
   "cell_type": "markdown",
   "metadata": {},
   "source": [
    "export the model"
   ]
  },
  {
   "cell_type": "code",
   "execution_count": null,
   "metadata": {},
   "outputs": [],
   "source": [
    "# Save the model\n",
    "model.save('speaker_identification_model.h5')\n",
    "\n",
    "# Save the label encoder\n",
    "import joblib\n",
    "joblib.dump(label_encoder, 'label_encoder.joblib')"
   ]
  }
 ],
 "metadata": {
  "kernelspec": {
   "display_name": "installingrasa",
   "language": "python",
   "name": "python3"
  },
  "language_info": {
   "name": "python",
   "version": "3.10.13"
  }
 },
 "nbformat": 4,
 "nbformat_minor": 2
}
