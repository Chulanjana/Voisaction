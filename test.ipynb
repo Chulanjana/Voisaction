{
 "cells": [
  {
   "cell_type": "code",
   "execution_count": null,
   "metadata": {},
   "outputs": [
    {
     "name": "stdout",
     "output_type": "stream",
     "text": [
      "Files in the folder:\n",
      "1.1.wav\n",
      "1.2.wav\n",
      "1.3.wav\n",
      "1.4.wav\n",
      "1.5.wav\n",
      "1.6.wav\n",
      "1.7.wav\n"
     ]
    }
   ],
   "source": [
    "import os\n",
    "\n",
    "# Specify the folder path you want to read\n",
    "folder_path = \"D:\\\\AIDS\\\\2nd year my\\\\my projects\\\\voisaction\\\\Voisaction\\\\uploads\"\n",
    "\n",
    "# Check if the folder exists\n",
    "if os.path.exists(folder_path):\n",
    "    # List all files and directories in the folder\n",
    "    files = os.listdir(folder_path)\n",
    "    print(\"Files in the folder:\")\n",
    "    for file in files:\n",
    "        print(file)\n",
    "\n",
    "else:\n",
    "    print(\"The specified folder does not exist.\")"
   ]
  },
  {
   "cell_type": "code",
   "execution_count": 5,
   "metadata": {},
   "outputs": [
    {
     "data": {
      "text/plain": [
       "['1.1.wav', '1.2.wav', '1.3.wav', '1.4.wav', '1.5.wav', '1.6.wav', '1.7.wav']"
      ]
     },
     "execution_count": 5,
     "metadata": {},
     "output_type": "execute_result"
    }
   ],
   "source": [
    "files"
   ]
  }
 ],
 "metadata": {
  "kernelspec": {
   "display_name": "installingrasa",
   "language": "python",
   "name": "python3"
  },
  "language_info": {
   "codemirror_mode": {
    "name": "ipython",
    "version": 3
   },
   "file_extension": ".py",
   "mimetype": "text/x-python",
   "name": "python",
   "nbconvert_exporter": "python",
   "pygments_lexer": "ipython3",
   "version": "3.10.13"
  }
 },
 "nbformat": 4,
 "nbformat_minor": 2
}
